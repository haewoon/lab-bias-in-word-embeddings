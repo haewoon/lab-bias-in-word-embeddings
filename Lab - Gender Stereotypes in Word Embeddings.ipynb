{
 "cells": [
  {
   "cell_type": "markdown",
   "metadata": {},
   "source": [
    "```\n",
    "Last modified: 2021/09/26, @haewoon \n",
    "```\n",
    "\n",
    "\n",
    "# Lab: Quantifying Gender Stereotypes in Word Embeddings\n",
    "\n",
    "[![Open In Colab](https://colab.research.google.com/assets/colab-badge.svg)](https://colab.research.google.com/github/haewoon/lab-bias-in-word-embeddings/blob/master/Lab%20-%20Gender%20Stereotypes%20in%20Word%20Embeddings.ipynb)"
   ]
  },
  {
   "cell_type": "markdown",
   "metadata": {},
   "source": [
    "## Step 0: Embeddind data download\n",
    "\n",
    "The data (word embedding and occupation list) is prepared from https://github.com/tolga-b/debiaswe"
   ]
  },
  {
   "cell_type": "code",
   "execution_count": 1,
   "metadata": {},
   "outputs": [
    {
     "name": "stdout",
     "output_type": "stream",
     "text": [
      "Downloading...\n",
      "From: https://drive.google.com/uc?id=1AAM0XAdeXkAcZxLVasbpUS0JFxiT2Dgh\n",
      "To: /Users/haewoon/Google Drive/SMU/Teaching/2021-22 Term 1/IS457 Fairness in sociotechnical systems/Lab/word embedding/w2v_gnews_small.zip\n",
      "29.1MB [00:00, 64.6MB/s]\n"
     ]
    }
   ],
   "source": [
    "!gdown --id 1AAM0XAdeXkAcZxLVasbpUS0JFxiT2Dgh"
   ]
  },
  {
   "cell_type": "code",
   "execution_count": 2,
   "metadata": {},
   "outputs": [],
   "source": [
    "import os\n",
    "os.makedirs('embeddings', exist_ok=True)"
   ]
  },
  {
   "cell_type": "code",
   "execution_count": 3,
   "metadata": {},
   "outputs": [
    {
     "name": "stdout",
     "output_type": "stream",
     "text": [
      "Archive:  w2v_gnews_small.zip\n",
      "  inflating: w2v_gnews_small.txt     \n"
     ]
    }
   ],
   "source": [
    "!unzip -o w2v_gnews_small.zip"
   ]
  },
  {
   "cell_type": "markdown",
   "metadata": {},
   "source": [
    "## Step 1: Load data\n",
    "\n",
    "\n",
    "### Word embedding\n",
    "As the entire Google News embedding (https://code.google.com/archive/p/word2vec/) is too big to load, we use a small word embedding that contains only words that are required for this lab (what we downloaded in Step 0). "
   ]
  },
  {
   "cell_type": "code",
   "execution_count": 4,
   "metadata": {},
   "outputs": [
    {
     "name": "stdout",
     "output_type": "stream",
     "text": [
      "(26423, 300)\n",
      "26423 words of dimension 300 : in, for, that, is, ..., Jay, Leroy, Brad, Jermaine\n"
     ]
    }
   ],
   "source": [
    "import numpy as np\n",
    "\n",
    "from we import WordEmbedding\n",
    "\n",
    "# load google news word2vec\n",
    "E = WordEmbedding('w2v_gnews_small.txt')"
   ]
  },
  {
   "cell_type": "markdown",
   "metadata": {},
   "source": [
    "### Occupations\n",
    "\n",
    "Load a list of 320 occupations"
   ]
  },
  {
   "cell_type": "code",
   "execution_count": 5,
   "metadata": {},
   "outputs": [
    {
     "data": {
      "text/plain": [
       "['accountant', 'acquaintance', 'actor', 'actress', 'adjunct_professor']"
      ]
     },
     "execution_count": 5,
     "metadata": {},
     "output_type": "execute_result"
    }
   ],
   "source": [
    "occupations = []\n",
    "with open('occupations.txt') as fi:\n",
    "    for line in fi:\n",
    "        occupations.append(line.strip())\n",
    "occupations[:5]"
   ]
  },
  {
   "cell_type": "code",
   "execution_count": 6,
   "metadata": {},
   "outputs": [
    {
     "data": {
      "text/plain": [
       "320"
      ]
     },
     "execution_count": 6,
     "metadata": {},
     "output_type": "execute_result"
    }
   ],
   "source": [
    "len(occupations)"
   ]
  },
  {
   "cell_type": "markdown",
   "metadata": {},
   "source": [
    "## Step 2: Define a gender axis vector (= *v(she)* - *v(he)*)\n",
    "\n",
    "A gender axis can be defined as a difference between a vector of `she` and that of `he`. You can use multiple relevant nouns (e.g., man, mankind, son, male, etc.) to represent male and female by averging their vectors.\n",
    "\n",
    "&nbsp;&nbsp;&nbsp;&nbsp;&nbsp;&nbsp;&nbsp;&nbsp;&nbsp;&nbsp;&nbsp;&nbsp;`gender_axis`<br/>\n",
    "`he` ------------------------> `she`"
   ]
  },
  {
   "cell_type": "markdown",
   "metadata": {},
   "source": [
    "### *v(she)*: Vector of `she` in word embeddings"
   ]
  },
  {
   "cell_type": "code",
   "execution_count": 7,
   "metadata": {},
   "outputs": [
    {
     "data": {
      "text/plain": [
       "300"
      ]
     },
     "execution_count": 7,
     "metadata": {},
     "output_type": "execute_result"
    }
   ],
   "source": [
    "len(E.v('she'))"
   ]
  },
  {
   "cell_type": "code",
   "execution_count": 8,
   "metadata": {},
   "outputs": [
    {
     "data": {
      "text/plain": [
       "array([ 0.0404959, -0.0145427, -0.0561573, -0.0177869,  0.0586184],\n",
       "      dtype=float32)"
      ]
     },
     "execution_count": 8,
     "metadata": {},
     "output_type": "execute_result"
    }
   ],
   "source": [
    "E.v('she')[:5] # presentaiton purpose. 5 out of 300 dimensions"
   ]
  },
  {
   "cell_type": "markdown",
   "metadata": {},
   "source": [
    "### *v(he)*: Vector of `he` in word embeddings"
   ]
  },
  {
   "cell_type": "code",
   "execution_count": 9,
   "metadata": {},
   "outputs": [
    {
     "data": {
      "text/plain": [
       "300"
      ]
     },
     "execution_count": 9,
     "metadata": {},
     "output_type": "execute_result"
    }
   ],
   "source": [
    "len(E.v('he'))"
   ]
  },
  {
   "cell_type": "code",
   "execution_count": 10,
   "metadata": {},
   "outputs": [
    {
     "data": {
      "text/plain": [
       "array([ 0.109257 ,  0.0726531, -0.0108841, -0.0166381,  0.0176087],\n",
       "      dtype=float32)"
      ]
     },
     "execution_count": 10,
     "metadata": {},
     "output_type": "execute_result"
    }
   ],
   "source": [
    "E.v('he')[:5] # presentaiton purpose. 5 out of 300 dimensions"
   ]
  },
  {
   "cell_type": "markdown",
   "metadata": {},
   "source": [
    "### *v_gender* = *v(she)* - *v(he)*: Gender axis vector"
   ]
  },
  {
   "cell_type": "code",
   "execution_count": 11,
   "metadata": {},
   "outputs": [
    {
     "data": {
      "text/plain": [
       "1.0"
      ]
     },
     "execution_count": 11,
     "metadata": {},
     "output_type": "execute_result"
    }
   ],
   "source": [
    "v_gender = E.diff('she', 'he') # normalization is included\n",
    "np.linalg.norm(v_gender)"
   ]
  },
  {
   "cell_type": "code",
   "execution_count": 12,
   "metadata": {},
   "outputs": [
    {
     "data": {
      "text/plain": [
       "300"
      ]
     },
     "execution_count": 12,
     "metadata": {},
     "output_type": "execute_result"
    }
   ],
   "source": [
    "len(v_gender)"
   ]
  },
  {
   "cell_type": "code",
   "execution_count": 13,
   "metadata": {},
   "outputs": [
    {
     "data": {
      "text/plain": [
       "array([-0.07815731, -0.09911112, -0.05145979, -0.00130578,  0.04661368],\n",
       "      dtype=float32)"
      ]
     },
     "execution_count": 13,
     "metadata": {},
     "output_type": "execute_result"
    }
   ],
   "source": [
    "v_gender[:5] # presentation purpose. 5 out of 300 dimensions"
   ]
  },
  {
   "cell_type": "markdown",
   "metadata": {},
   "source": [
    "## Step 3: Analyzing gender bias in word embeddings with regard to occupations\n",
    "\n",
    "We will compute the cosine similarity between a vector of each occupation and *v_gender*.\n",
    "\n",
    "- similarity(v_gender, occupation) > 0 (well aligned with the gender axis): the occupation is closer to `she`.\n",
    "- similarity(v_gender, occupation) < 0 (Opposite direction with the gender axis): the occupation is closer to `he`."
   ]
  },
  {
   "cell_type": "code",
   "execution_count": 14,
   "metadata": {},
   "outputs": [],
   "source": [
    "similarities = []\n",
    "for occupation in occupations:\n",
    "    similarities.append((occupation, E.v(occupation).dot(v_gender)))\n",
    "\n",
    "import operator\n",
    "similarities = sorted(similarities, key=operator.itemgetter(1))"
   ]
  },
  {
   "cell_type": "markdown",
   "metadata": {},
   "source": [
    "#### 20 occupation closer to `she` in word embeddings"
   ]
  },
  {
   "cell_type": "code",
   "execution_count": 15,
   "metadata": {},
   "outputs": [
    {
     "data": {
      "text/plain": [
       "[('interior_designer', 0.19714224),\n",
       " ('housekeeper', 0.20833439),\n",
       " ('stylist', 0.21560375),\n",
       " ('bookkeeper', 0.2236317),\n",
       " ('maid', 0.23776126),\n",
       " ('nun', 0.24125955),\n",
       " ('nanny', 0.24782579),\n",
       " ('hairdresser', 0.24929334),\n",
       " ('paralegal', 0.24946158),\n",
       " ('ballerina', 0.25276464),\n",
       " ('socialite', 0.25718823),\n",
       " ('librarian', 0.26647124),\n",
       " ('receptionist', 0.27317622),\n",
       " ('waitress', 0.27540293),\n",
       " ('nurse', 0.28085968),\n",
       " ('registered_nurse', 0.3042623),\n",
       " ('homemaker', 0.3043797),\n",
       " ('housewife', 0.3403659),\n",
       " ('actress', 0.3523514),\n",
       " ('businesswoman', 0.35965404)]"
      ]
     },
     "execution_count": 15,
     "metadata": {},
     "output_type": "execute_result"
    }
   ],
   "source": [
    "similarities[-20:]"
   ]
  },
  {
   "cell_type": "markdown",
   "metadata": {},
   "source": [
    "#### 20 occupation closer to `he` in word embeddings"
   ]
  },
  {
   "cell_type": "code",
   "execution_count": 16,
   "metadata": {},
   "outputs": [
    {
     "data": {
      "text/plain": [
       "[('maestro', -0.23798442),\n",
       " ('statesman', -0.21665451),\n",
       " ('skipper', -0.20758669),\n",
       " ('protege', -0.20267202),\n",
       " ('businessman', -0.2020676),\n",
       " ('sportsman', -0.19492392),\n",
       " ('philosopher', -0.18836352),\n",
       " ('marksman', -0.1807366),\n",
       " ('captain', -0.1728986),\n",
       " ('architect', -0.16785555),\n",
       " ('financier', -0.16702037),\n",
       " ('warrior', -0.16313636),\n",
       " ('major_leaguer', -0.15280862),\n",
       " ('trumpeter', -0.15001445),\n",
       " ('broadcaster', -0.14718868),\n",
       " ('magician', -0.14637242),\n",
       " ('fighter_pilot', -0.14401694),\n",
       " ('boss', -0.13782285),\n",
       " ('industrialist', -0.137182),\n",
       " ('pundit', -0.13684885)]"
      ]
     },
     "execution_count": 16,
     "metadata": {},
     "output_type": "execute_result"
    }
   ],
   "source": [
    "similarities[:20]"
   ]
  },
  {
   "cell_type": "raw",
   "metadata": {},
   "source": []
  }
 ],
 "metadata": {
  "kernelspec": {
   "display_name": "Python 3",
   "language": "python",
   "name": "python3"
  },
  "language_info": {
   "codemirror_mode": {
    "name": "ipython",
    "version": 3
   },
   "file_extension": ".py",
   "mimetype": "text/x-python",
   "name": "python",
   "nbconvert_exporter": "python",
   "pygments_lexer": "ipython3",
   "version": "3.8.3"
  }
 },
 "nbformat": 4,
 "nbformat_minor": 2
}
