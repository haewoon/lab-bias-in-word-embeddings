{
 "cells": [
  {
   "cell_type": "markdown",
   "metadata": {},
   "source": [
    "```\n",
    "Last modified: 2021/09/26, @haewoon \n",
    "```\n",
    "\n",
    "\n",
    "# Lab: Quantifying Gender Stereotypes in Word Embeddings\n",
    "\n",
    "[![Open In Colab](https://colab.research.google.com/assets/colab-badge.svg)](https://colab.research.google.com/github/haewoon/lab-bias-in-word-embeddings/blob/master/Lab%20-%20Gender%20Stereotypes%20in%20Word%20Embeddings.ipynb)"
   ]
  },
  {
   "cell_type": "markdown",
   "metadata": {},
   "source": [
    "## Step 0: Embeddind data download\n",
    "\n",
    "The data (word embedding and occupation list) is prepared from https://github.com/tolga-b/debiaswe"
   ]
  },
  {
   "cell_type": "code",
   "execution_count": null,
   "metadata": {},
   "outputs": [],
   "source": [
    "!gdown --id 1WfekqbKFmYdro8diMS-zpihwQ7CAq3ZE"
   ]
  },
  {
   "cell_type": "code",
   "execution_count": null,
   "metadata": {},
   "outputs": [],
   "source": [
    "!unzip -o w2v_gnews_small.zip"
   ]
  },
  {
   "cell_type": "markdown",
   "metadata": {},
   "source": [
    "## Step 1: Load data\n",
    "\n",
    "\n",
    "### Word embedding\n",
    "As the entire Google News embedding (https://code.google.com/archive/p/word2vec/) is too big to load, we use a small word embedding that contains only words that are required for this lab (what we downloaded in Step 0). "
   ]
  },
  {
   "cell_type": "code",
   "execution_count": null,
   "metadata": {},
   "outputs": [],
   "source": [
    "import numpy as np\n",
    "\n",
    "from we import WordEmbedding\n",
    "\n",
    "# load google news word2vec\n",
    "E = WordEmbedding('w2v_gnews_small.txt')"
   ]
  },
  {
   "cell_type": "markdown",
   "metadata": {},
   "source": [
    "### Occupations\n",
    "\n",
    "Load a list of 320 occupations"
   ]
  },
  {
   "cell_type": "code",
   "execution_count": null,
   "metadata": {},
   "outputs": [],
   "source": [
    "occupations = []\n",
    "with open('occupations.txt') as fi:\n",
    "    for line in fi:\n",
    "        occupations.append(line.strip())\n",
    "occupations[:5]"
   ]
  },
  {
   "cell_type": "code",
   "execution_count": null,
   "metadata": {},
   "outputs": [],
   "source": [
    "len(occupations)"
   ]
  },
  {
   "cell_type": "markdown",
   "metadata": {},
   "source": [
    "## Step 2: Define a gender axis vector (= *v(she)* - *v(he)*)\n",
    "\n",
    "A gender axis can be defined as a difference between a vector of `she` and that of `he`. You can use multiple relevant nouns (e.g., man, mankind, son, male, etc.) to represent male and female by averging their vectors.\n",
    "\n",
    "&nbsp;&nbsp;&nbsp;&nbsp;&nbsp;&nbsp;&nbsp;&nbsp;&nbsp;&nbsp;&nbsp;&nbsp;`gender_axis`<br/>\n",
    "`he` ------------------------> `she`"
   ]
  },
  {
   "cell_type": "markdown",
   "metadata": {},
   "source": [
    "### *v(she)*: Vector of `she` in word embeddings"
   ]
  },
  {
   "cell_type": "code",
   "execution_count": null,
   "metadata": {},
   "outputs": [],
   "source": [
    "len(E.v('she'))"
   ]
  },
  {
   "cell_type": "code",
   "execution_count": null,
   "metadata": {},
   "outputs": [],
   "source": [
    "E.v('she')[:5] # presentaiton purpose. 5 out of 300 dimensions"
   ]
  },
  {
   "cell_type": "markdown",
   "metadata": {},
   "source": [
    "### *v(he)*: Vector of `he` in word embeddings"
   ]
  },
  {
   "cell_type": "code",
   "execution_count": null,
   "metadata": {},
   "outputs": [],
   "source": [
    "len(E.v('he'))"
   ]
  },
  {
   "cell_type": "code",
   "execution_count": null,
   "metadata": {},
   "outputs": [],
   "source": [
    "E.v('he')[:5] # presentaiton purpose. 5 out of 300 dimensions"
   ]
  },
  {
   "cell_type": "markdown",
   "metadata": {},
   "source": [
    "### *v_gender* = *v(she)* - *v(he)*: Gender axis vector"
   ]
  },
  {
   "cell_type": "code",
   "execution_count": null,
   "metadata": {},
   "outputs": [],
   "source": [
    "v_gender = E.diff('she', 'he') # normalization is included\n",
    "np.linalg.norm(v_gender)"
   ]
  },
  {
   "cell_type": "code",
   "execution_count": null,
   "metadata": {},
   "outputs": [],
   "source": [
    "len(v_gender)"
   ]
  },
  {
   "cell_type": "code",
   "execution_count": null,
   "metadata": {},
   "outputs": [],
   "source": [
    "v_gender[:5] # presentation purpose. 5 out of 300 dimensions"
   ]
  },
  {
   "cell_type": "markdown",
   "metadata": {},
   "source": [
    "## Step 3: Analyzing gender bias in word embeddings with regard to occupations\n",
    "\n",
    "We will compute the cosine similarity between a vector of each occupation and *v_gender*.\n",
    "\n",
    "- similarity(v_gender, occupation) > 0 (well aligned with the gender axis): the occupation is closer to `she`.\n",
    "- similarity(v_gender, occupation) < 0 (Opposite direction with the gender axis): the occupation is closer to `he`."
   ]
  },
  {
   "cell_type": "code",
   "execution_count": null,
   "metadata": {},
   "outputs": [],
   "source": [
    "similarities = []\n",
    "for occupation in occupations:\n",
    "    similarities.append((occupation, E.v(occupation).dot(v_gender)))\n",
    "\n",
    "import operator\n",
    "similarities = sorted(similarities, key=operator.itemgetter(1))"
   ]
  },
  {
   "cell_type": "markdown",
   "metadata": {},
   "source": [
    "#### 20 occupation closer to `she` in word embeddings"
   ]
  },
  {
   "cell_type": "code",
   "execution_count": null,
   "metadata": {},
   "outputs": [],
   "source": [
    "similarities[-20:]"
   ]
  },
  {
   "cell_type": "markdown",
   "metadata": {},
   "source": [
    "#### 20 occupation closer to `he` in word embeddings"
   ]
  },
  {
   "cell_type": "code",
   "execution_count": null,
   "metadata": {},
   "outputs": [],
   "source": [
    "similarities[:20]"
   ]
  },
  {
   "cell_type": "raw",
   "metadata": {},
   "source": []
  }
 ],
 "metadata": {
  "kernelspec": {
   "display_name": "Python 3",
   "language": "python",
   "name": "python3"
  },
  "language_info": {
   "codemirror_mode": {
    "name": "ipython",
    "version": 3
   },
   "file_extension": ".py",
   "mimetype": "text/x-python",
   "name": "python",
   "nbconvert_exporter": "python",
   "pygments_lexer": "ipython3",
   "version": "3.8.3"
  }
 },
 "nbformat": 4,
 "nbformat_minor": 2
}
